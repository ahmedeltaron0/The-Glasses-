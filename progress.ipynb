{
 "cells": [
  {
   "cell_type": "code",
   "execution_count": 1,
   "metadata": {},
   "outputs": [
    {
     "name": "stdout",
     "output_type": "stream",
     "text": [
      "Requirement already satisfied: requests in c:\\users\\ahmed\\anaconda\\lib\\site-packages (2.31.0)\n",
      "Requirement already satisfied: Pillow in c:\\users\\ahmed\\anaconda\\lib\\site-packages (10.0.1)\n",
      "Requirement already satisfied: charset-normalizer<4,>=2 in c:\\users\\ahmed\\anaconda\\lib\\site-packages (from requests) (2.0.4)\n",
      "Requirement already satisfied: idna<4,>=2.5 in c:\\users\\ahmed\\anaconda\\lib\\site-packages (from requests) (3.4)\n",
      "Requirement already satisfied: urllib3<3,>=1.21.1 in c:\\users\\ahmed\\anaconda\\lib\\site-packages (from requests) (1.26.16)\n",
      "Requirement already satisfied: certifi>=2017.4.17 in c:\\users\\ahmed\\anaconda\\lib\\site-packages (from requests) (2024.2.2)\n"
     ]
    }
   ],
   "source": [
    "!pip install requests Pillow\n"
   ]
  },
  {
   "cell_type": "code",
   "execution_count": 19,
   "metadata": {},
   "outputs": [
    {
     "name": "stdout",
     "output_type": "stream",
     "text": [
      "Saved frame_1712280617_0.jpg\n"
     ]
    }
   ],
   "source": [
    "import requests\n",
    "from PIL import Image\n",
    "from io import BytesIO\n",
    "import time\n",
    "\n",
    "def find_jpeg(data):\n",
    "    \"\"\"\n",
    "    Find JPEG images within a stream of data.\n",
    "    Yields start and end indices of JPEG images.\n",
    "    \"\"\"\n",
    "    start = 0\n",
    "    while True:\n",
    "        start = data.find(b'\\xff\\xd8', start)\n",
    "        if start == -1:\n",
    "            break\n",
    "        end = data.find(b'\\xff\\xd9', start) + 2\n",
    "        if end == 1:\n",
    "            break\n",
    "        yield start, end\n",
    "        start = end\n",
    "\n",
    "def save_frames_from_stream(url, timeout=30, max_frames=1):\n",
    "    \"\"\"\n",
    "    Connects to the ESP32 camera stream, captures and saves frames as JPEG files.\n",
    "\n",
    "    Args:\n",
    "    - url: The URL of the camera stream.\n",
    "    - timeout: How long to wait for a response, in seconds.\n",
    "    - max_frames: The maximum number of frames to save.\n",
    "    \"\"\"\n",
    "    response = requests.get(url, stream=True, timeout=timeout)\n",
    "    if response.status_code == 200:\n",
    "        bytes_io = BytesIO()\n",
    "        frame_count = 0\n",
    "        for chunk in response.iter_content(chunk_size=1024):\n",
    "            bytes_io.write(chunk)\n",
    "            # Search for JPEG images in the accumulated data\n",
    "            data = bytes_io.getvalue()\n",
    "            for start, end in find_jpeg(data):\n",
    "                # Extract and save the JPEG image\n",
    "                img_data = data[start:end]\n",
    "                img = Image.open(BytesIO(img_data))\n",
    "                filename = f'frame_{int(time.time())}_{frame_count}.jpg'\n",
    "                img.save(filename)\n",
    "                print(f'Saved {filename}')\n",
    "                frame_count += 1\n",
    "                if frame_count >= max_frames:\n",
    "                    return\n",
    "            # Clear the buffer if it's getting too large\n",
    "            if bytes_io.tell() > 10 * 1024 * 1024:  # 10MB\n",
    "                bytes_io.seek(0)\n",
    "                bytes_io.truncate()\n",
    "    else:\n",
    "        print(\"Failed to connect to the camera stream.\")\n",
    "\n",
    "if __name__ == \"__main__\":\n",
    "    # Your ESP32 camera stream URL\n",
    "    STREAM_URL = \"http://192.168.1.53\"\n",
    "    save_frames_from_stream(STREAM_URL, max_frames=1)\n"
   ]
  }
 ],
 "metadata": {
  "kernelspec": {
   "display_name": "base",
   "language": "python",
   "name": "python3"
  },
  "language_info": {
   "codemirror_mode": {
    "name": "ipython",
    "version": 3
   },
   "file_extension": ".py",
   "mimetype": "text/x-python",
   "name": "python",
   "nbconvert_exporter": "python",
   "pygments_lexer": "ipython3",
   "version": "3.11.5"
  }
 },
 "nbformat": 4,
 "nbformat_minor": 2
}
